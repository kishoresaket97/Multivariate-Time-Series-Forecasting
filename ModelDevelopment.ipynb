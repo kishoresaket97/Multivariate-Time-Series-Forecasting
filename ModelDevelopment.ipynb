{
 "cells": [
  {
   "cell_type": "code",
   "execution_count": 2,
   "metadata": {
    "colab": {
     "base_uri": "https://localhost:8080/",
     "height": 717
    },
    "id": "K41dKjWuORcg",
    "outputId": "20bb3c98-d0c2-4da1-ba88-5a10f0479127"
   },
   "outputs": [
    {
     "name": "stdout",
     "output_type": "stream",
     "text": [
      "Collecting tensorflow-gpu\n",
      "\u001b[?25l  Downloading https://files.pythonhosted.org/packages/18/99/ac32fd13d56e40d4c3e6150030132519997c0bb1f06f448d970e81b177e5/tensorflow_gpu-2.3.1-cp36-cp36m-manylinux2010_x86_64.whl (320.4MB)\n",
      "\u001b[K     |████████████████████████████████| 320.4MB 43kB/s \n",
      "\u001b[?25hRequirement already satisfied: gast==0.3.3 in /usr/local/lib/python3.6/dist-packages (from tensorflow-gpu) (0.3.3)\n",
      "Requirement already satisfied: protobuf>=3.9.2 in /usr/local/lib/python3.6/dist-packages (from tensorflow-gpu) (3.12.4)\n",
      "Requirement already satisfied: grpcio>=1.8.6 in /usr/local/lib/python3.6/dist-packages (from tensorflow-gpu) (1.33.1)\n",
      "Requirement already satisfied: wrapt>=1.11.1 in /usr/local/lib/python3.6/dist-packages (from tensorflow-gpu) (1.12.1)\n",
      "Requirement already satisfied: absl-py>=0.7.0 in /usr/local/lib/python3.6/dist-packages (from tensorflow-gpu) (0.10.0)\n",
      "Requirement already satisfied: six>=1.12.0 in /usr/local/lib/python3.6/dist-packages (from tensorflow-gpu) (1.15.0)\n",
      "Requirement already satisfied: termcolor>=1.1.0 in /usr/local/lib/python3.6/dist-packages (from tensorflow-gpu) (1.1.0)\n",
      "Requirement already satisfied: astunparse==1.6.3 in /usr/local/lib/python3.6/dist-packages (from tensorflow-gpu) (1.6.3)\n",
      "Requirement already satisfied: tensorflow-estimator<2.4.0,>=2.3.0 in /usr/local/lib/python3.6/dist-packages (from tensorflow-gpu) (2.3.0)\n",
      "Requirement already satisfied: opt-einsum>=2.3.2 in /usr/local/lib/python3.6/dist-packages (from tensorflow-gpu) (3.3.0)\n",
      "Requirement already satisfied: keras-preprocessing<1.2,>=1.1.1 in /usr/local/lib/python3.6/dist-packages (from tensorflow-gpu) (1.1.2)\n",
      "Requirement already satisfied: h5py<2.11.0,>=2.10.0 in /usr/local/lib/python3.6/dist-packages (from tensorflow-gpu) (2.10.0)\n",
      "Requirement already satisfied: tensorboard<3,>=2.3.0 in /usr/local/lib/python3.6/dist-packages (from tensorflow-gpu) (2.3.0)\n",
      "Requirement already satisfied: numpy<1.19.0,>=1.16.0 in /usr/local/lib/python3.6/dist-packages (from tensorflow-gpu) (1.18.5)\n",
      "Requirement already satisfied: wheel>=0.26 in /usr/local/lib/python3.6/dist-packages (from tensorflow-gpu) (0.35.1)\n",
      "Requirement already satisfied: google-pasta>=0.1.8 in /usr/local/lib/python3.6/dist-packages (from tensorflow-gpu) (0.2.0)\n",
      "Requirement already satisfied: setuptools in /usr/local/lib/python3.6/dist-packages (from protobuf>=3.9.2->tensorflow-gpu) (50.3.0)\n",
      "Requirement already satisfied: markdown>=2.6.8 in /usr/local/lib/python3.6/dist-packages (from tensorboard<3,>=2.3.0->tensorflow-gpu) (3.3.2)\n",
      "Requirement already satisfied: requests<3,>=2.21.0 in /usr/local/lib/python3.6/dist-packages (from tensorboard<3,>=2.3.0->tensorflow-gpu) (2.23.0)\n",
      "Requirement already satisfied: google-auth<2,>=1.6.3 in /usr/local/lib/python3.6/dist-packages (from tensorboard<3,>=2.3.0->tensorflow-gpu) (1.17.2)\n",
      "Requirement already satisfied: tensorboard-plugin-wit>=1.6.0 in /usr/local/lib/python3.6/dist-packages (from tensorboard<3,>=2.3.0->tensorflow-gpu) (1.7.0)\n",
      "Requirement already satisfied: google-auth-oauthlib<0.5,>=0.4.1 in /usr/local/lib/python3.6/dist-packages (from tensorboard<3,>=2.3.0->tensorflow-gpu) (0.4.1)\n",
      "Requirement already satisfied: werkzeug>=0.11.15 in /usr/local/lib/python3.6/dist-packages (from tensorboard<3,>=2.3.0->tensorflow-gpu) (1.0.1)\n",
      "Requirement already satisfied: importlib-metadata; python_version < \"3.8\" in /usr/local/lib/python3.6/dist-packages (from markdown>=2.6.8->tensorboard<3,>=2.3.0->tensorflow-gpu) (2.0.0)\n",
      "Requirement already satisfied: certifi>=2017.4.17 in /usr/local/lib/python3.6/dist-packages (from requests<3,>=2.21.0->tensorboard<3,>=2.3.0->tensorflow-gpu) (2020.6.20)\n",
      "Requirement already satisfied: chardet<4,>=3.0.2 in /usr/local/lib/python3.6/dist-packages (from requests<3,>=2.21.0->tensorboard<3,>=2.3.0->tensorflow-gpu) (3.0.4)\n",
      "Requirement already satisfied: urllib3!=1.25.0,!=1.25.1,<1.26,>=1.21.1 in /usr/local/lib/python3.6/dist-packages (from requests<3,>=2.21.0->tensorboard<3,>=2.3.0->tensorflow-gpu) (1.24.3)\n",
      "Requirement already satisfied: idna<3,>=2.5 in /usr/local/lib/python3.6/dist-packages (from requests<3,>=2.21.0->tensorboard<3,>=2.3.0->tensorflow-gpu) (2.10)\n",
      "Requirement already satisfied: rsa<5,>=3.1.4; python_version >= \"3\" in /usr/local/lib/python3.6/dist-packages (from google-auth<2,>=1.6.3->tensorboard<3,>=2.3.0->tensorflow-gpu) (4.6)\n",
      "Requirement already satisfied: cachetools<5.0,>=2.0.0 in /usr/local/lib/python3.6/dist-packages (from google-auth<2,>=1.6.3->tensorboard<3,>=2.3.0->tensorflow-gpu) (4.1.1)\n",
      "Requirement already satisfied: pyasn1-modules>=0.2.1 in /usr/local/lib/python3.6/dist-packages (from google-auth<2,>=1.6.3->tensorboard<3,>=2.3.0->tensorflow-gpu) (0.2.8)\n",
      "Requirement already satisfied: requests-oauthlib>=0.7.0 in /usr/local/lib/python3.6/dist-packages (from google-auth-oauthlib<0.5,>=0.4.1->tensorboard<3,>=2.3.0->tensorflow-gpu) (1.3.0)\n",
      "Requirement already satisfied: zipp>=0.5 in /usr/local/lib/python3.6/dist-packages (from importlib-metadata; python_version < \"3.8\"->markdown>=2.6.8->tensorboard<3,>=2.3.0->tensorflow-gpu) (3.3.1)\n",
      "Requirement already satisfied: pyasn1>=0.1.3 in /usr/local/lib/python3.6/dist-packages (from rsa<5,>=3.1.4; python_version >= \"3\"->google-auth<2,>=1.6.3->tensorboard<3,>=2.3.0->tensorflow-gpu) (0.4.8)\n",
      "Requirement already satisfied: oauthlib>=3.0.0 in /usr/local/lib/python3.6/dist-packages (from requests-oauthlib>=0.7.0->google-auth-oauthlib<0.5,>=0.4.1->tensorboard<3,>=2.3.0->tensorflow-gpu) (3.1.0)\n",
      "Installing collected packages: tensorflow-gpu\n",
      "Successfully installed tensorflow-gpu-2.3.1\n"
     ]
    }
   ],
   "source": [
    "!pip install tensorflow-gpu"
   ]
  },
  {
   "cell_type": "code",
   "execution_count": 3,
   "metadata": {
    "id": "YfM_BHrZSoga"
   },
   "outputs": [],
   "source": [
    "import numpy as np \n",
    "import pandas as pd \n",
    "import tensorflow as tf\n",
    "from tensorflow import keras"
   ]
  },
  {
   "cell_type": "code",
   "execution_count": 4,
   "metadata": {
    "id": "QXD4dH56SojJ"
   },
   "outputs": [],
   "source": [
    "stock = pd.read_csv(\"/content/drive/My Drive/Colab Notebooks/finaldataset.csv\")"
   ]
  },
  {
   "cell_type": "code",
   "execution_count": 5,
   "metadata": {
    "id": "e2coHOz8Solp"
   },
   "outputs": [],
   "source": [
    "stock['publish_date'] = pd.to_datetime(stock['publish_date']) "
   ]
  },
  {
   "cell_type": "code",
   "execution_count": 6,
   "metadata": {
    "id": "1H-PnEdJSooG"
   },
   "outputs": [],
   "source": [
    "stock.set_index('publish_date', inplace = True)"
   ]
  },
  {
   "cell_type": "code",
   "execution_count": 7,
   "metadata": {
    "colab": {
     "base_uri": "https://localhost:8080/",
     "height": 235
    },
    "id": "-cCSqYtgSoq3",
    "outputId": "e92397d7-4dc7-4000-c6c4-79871da69ffc"
   },
   "outputs": [
    {
     "data": {
      "text/html": [
       "<div>\n",
       "<style scoped>\n",
       "    .dataframe tbody tr th:only-of-type {\n",
       "        vertical-align: middle;\n",
       "    }\n",
       "\n",
       "    .dataframe tbody tr th {\n",
       "        vertical-align: top;\n",
       "    }\n",
       "\n",
       "    .dataframe thead th {\n",
       "        text-align: right;\n",
       "    }\n",
       "</style>\n",
       "<table border=\"1\" class=\"dataframe\">\n",
       "  <thead>\n",
       "    <tr style=\"text-align: right;\">\n",
       "      <th></th>\n",
       "      <th>week_of_year</th>\n",
       "      <th>month</th>\n",
       "      <th>pct_week_of_year</th>\n",
       "      <th>pol_s2_rw3</th>\n",
       "      <th>pol_s3_rw7</th>\n",
       "      <th>pol_s4_rw14</th>\n",
       "      <th>lag1_Close</th>\n",
       "      <th>lag_close_rw30</th>\n",
       "      <th>lag_close_ew</th>\n",
       "      <th>lag_close_diff</th>\n",
       "      <th>Close</th>\n",
       "    </tr>\n",
       "    <tr>\n",
       "      <th>publish_date</th>\n",
       "      <th></th>\n",
       "      <th></th>\n",
       "      <th></th>\n",
       "      <th></th>\n",
       "      <th></th>\n",
       "      <th></th>\n",
       "      <th></th>\n",
       "      <th></th>\n",
       "      <th></th>\n",
       "      <th></th>\n",
       "      <th></th>\n",
       "    </tr>\n",
       "  </thead>\n",
       "  <tbody>\n",
       "    <tr>\n",
       "      <th>2001-06-19</th>\n",
       "      <td>25</td>\n",
       "      <td>6</td>\n",
       "      <td>0.000819</td>\n",
       "      <td>-0.012048</td>\n",
       "      <td>-0.000235</td>\n",
       "      <td>-0.003545</td>\n",
       "      <td>3406.050049</td>\n",
       "      <td>3555.926343</td>\n",
       "      <td>3818.973250</td>\n",
       "      <td>-4.899902</td>\n",
       "      <td>3410.949951</td>\n",
       "    </tr>\n",
       "    <tr>\n",
       "      <th>2001-06-20</th>\n",
       "      <td>25</td>\n",
       "      <td>6</td>\n",
       "      <td>0.000819</td>\n",
       "      <td>-0.014315</td>\n",
       "      <td>-0.003466</td>\n",
       "      <td>-0.004068</td>\n",
       "      <td>3405.639893</td>\n",
       "      <td>3550.505339</td>\n",
       "      <td>3815.557272</td>\n",
       "      <td>-0.410156</td>\n",
       "      <td>3406.050049</td>\n",
       "    </tr>\n",
       "    <tr>\n",
       "      <th>2001-06-21</th>\n",
       "      <td>25</td>\n",
       "      <td>6</td>\n",
       "      <td>0.000819</td>\n",
       "      <td>-0.004011</td>\n",
       "      <td>-0.004303</td>\n",
       "      <td>-0.006917</td>\n",
       "      <td>3381.760010</td>\n",
       "      <td>3544.571672</td>\n",
       "      <td>3812.001557</td>\n",
       "      <td>-23.879883</td>\n",
       "      <td>3405.639893</td>\n",
       "    </tr>\n",
       "    <tr>\n",
       "      <th>2001-06-22</th>\n",
       "      <td>25</td>\n",
       "      <td>6</td>\n",
       "      <td>0.000819</td>\n",
       "      <td>0.003311</td>\n",
       "      <td>-0.003433</td>\n",
       "      <td>-0.007758</td>\n",
       "      <td>3318.669922</td>\n",
       "      <td>3536.229671</td>\n",
       "      <td>3807.990731</td>\n",
       "      <td>-63.090088</td>\n",
       "      <td>3381.760010</td>\n",
       "    </tr>\n",
       "    <tr>\n",
       "      <th>2001-06-25</th>\n",
       "      <td>26</td>\n",
       "      <td>6</td>\n",
       "      <td>0.001859</td>\n",
       "      <td>0.005231</td>\n",
       "      <td>-0.004189</td>\n",
       "      <td>-0.004998</td>\n",
       "      <td>3407.320068</td>\n",
       "      <td>3530.575008</td>\n",
       "      <td>3804.759516</td>\n",
       "      <td>88.650146</td>\n",
       "      <td>3318.669922</td>\n",
       "    </tr>\n",
       "  </tbody>\n",
       "</table>\n",
       "</div>"
      ],
      "text/plain": [
       "              week_of_year  month  ...  lag_close_diff        Close\n",
       "publish_date                       ...                             \n",
       "2001-06-19              25      6  ...       -4.899902  3410.949951\n",
       "2001-06-20              25      6  ...       -0.410156  3406.050049\n",
       "2001-06-21              25      6  ...      -23.879883  3405.639893\n",
       "2001-06-22              25      6  ...      -63.090088  3381.760010\n",
       "2001-06-25              26      6  ...       88.650146  3318.669922\n",
       "\n",
       "[5 rows x 11 columns]"
      ]
     },
     "execution_count": 7,
     "metadata": {
      "tags": []
     },
     "output_type": "execute_result"
    }
   ],
   "source": [
    "stock.head(5)"
   ]
  },
  {
   "cell_type": "code",
   "execution_count": 8,
   "metadata": {
    "id": "ePQZ20ZCSotZ"
   },
   "outputs": [],
   "source": [
    "train_size = int(len(stock) * 0.9)\n",
    "test_size = len(stock) - train_size\n",
    "train, test = stock.iloc[0:train_size], stock.iloc[train_size:len(stock)]"
   ]
  },
  {
   "cell_type": "code",
   "execution_count": 9,
   "metadata": {
    "colab": {
     "base_uri": "https://localhost:8080/",
     "height": 34
    },
    "id": "7b04uZeMSovv",
    "outputId": "fe41cf27-892b-4461-adc4-24edf0f8a921"
   },
   "outputs": [
    {
     "data": {
      "text/plain": [
       "(4272, 475)"
      ]
     },
     "execution_count": 9,
     "metadata": {
      "tags": []
     },
     "output_type": "execute_result"
    }
   ],
   "source": [
    "(len(train), len(test))"
   ]
  },
  {
   "cell_type": "code",
   "execution_count": 10,
   "metadata": {
    "colab": {
     "base_uri": "https://localhost:8080/",
     "height": 425
    },
    "id": "gvuVEyqBSoyG",
    "outputId": "77394bc6-61ee-48c7-b4e1-c7ec12381b3f"
   },
   "outputs": [
    {
     "name": "stderr",
     "output_type": "stream",
     "text": [
      "/usr/local/lib/python3.6/dist-packages/pandas/core/indexing.py:1736: SettingWithCopyWarning: \n",
      "A value is trying to be set on a copy of a slice from a DataFrame.\n",
      "Try using .loc[row_indexer,col_indexer] = value instead\n",
      "\n",
      "See the caveats in the documentation: https://pandas.pydata.org/pandas-docs/stable/user_guide/indexing.html#returning-a-view-versus-a-copy\n",
      "  isetter(loc, value[:, i].tolist())\n",
      "/usr/local/lib/python3.6/dist-packages/ipykernel_launcher.py:12: SettingWithCopyWarning: \n",
      "A value is trying to be set on a copy of a slice from a DataFrame.\n",
      "Try using .loc[row_indexer,col_indexer] = value instead\n",
      "\n",
      "See the caveats in the documentation: https://pandas.pydata.org/pandas-docs/stable/user_guide/indexing.html#returning-a-view-versus-a-copy\n",
      "  if sys.path[0] == '':\n",
      "/usr/local/lib/python3.6/dist-packages/pandas/core/indexing.py:1736: SettingWithCopyWarning: \n",
      "A value is trying to be set on a copy of a slice from a DataFrame.\n",
      "Try using .loc[row_indexer,col_indexer] = value instead\n",
      "\n",
      "See the caveats in the documentation: https://pandas.pydata.org/pandas-docs/stable/user_guide/indexing.html#returning-a-view-versus-a-copy\n",
      "  isetter(loc, value[:, i].tolist())\n",
      "/usr/local/lib/python3.6/dist-packages/ipykernel_launcher.py:15: SettingWithCopyWarning: \n",
      "A value is trying to be set on a copy of a slice from a DataFrame.\n",
      "Try using .loc[row_indexer,col_indexer] = value instead\n",
      "\n",
      "See the caveats in the documentation: https://pandas.pydata.org/pandas-docs/stable/user_guide/indexing.html#returning-a-view-versus-a-copy\n",
      "  from ipykernel import kernelapp as app\n"
     ]
    }
   ],
   "source": [
    "from sklearn.preprocessing import RobustScaler\n",
    "\n",
    "feature_col = ['week_of_year', 'month', 'pct_week_of_year', 'pol_s2_rw3', 'pol_s3_rw7', 'pol_s4_rw14', 'lag1_Close', 'lag_close_rw30', 'lag_close_ew', 'lag_close_diff']\n",
    "\n",
    "feature_transformer = RobustScaler()\n",
    "target_transformer = RobustScaler()\n",
    "\n",
    "feature_transformer = feature_transformer.fit(stock[feature_col].to_numpy())\n",
    "target_transformer = target_transformer.fit(stock[['Close']])\n",
    "\n",
    "train.loc[:, feature_col] = feature_transformer.transform(train[feature_col].to_numpy())\n",
    "train['Close'] = target_transformer.transform(train[['Close']])\n",
    "\n",
    "test.loc[:, feature_col] = feature_transformer.transform(test[feature_col].to_numpy())\n",
    "test['Close'] = target_transformer.transform(test[['Close']])"
   ]
  },
  {
   "cell_type": "code",
   "execution_count": 11,
   "metadata": {
    "id": "t_6kpQQNSo0p"
   },
   "outputs": [],
   "source": [
    "def create_dataset(X, y, time_steps=1):\n",
    "    Xs, ys = [], []\n",
    "    for i in range(len(X) - time_steps):\n",
    "        v = X.iloc[i:(i + time_steps)].values\n",
    "        Xs.append(v)        \n",
    "        ys.append(y.iloc[i + time_steps])\n",
    "    return np.array(Xs), np.array(ys)"
   ]
  },
  {
   "cell_type": "code",
   "execution_count": 12,
   "metadata": {
    "colab": {
     "base_uri": "https://localhost:8080/",
     "height": 34
    },
    "id": "uLG6be3aSo28",
    "outputId": "541ed5f4-7f25-4fbf-add4-a54b8b0c2987"
   },
   "outputs": [
    {
     "name": "stdout",
     "output_type": "stream",
     "text": [
      "(4242, 30, 11) (4242,)\n"
     ]
    }
   ],
   "source": [
    "time_steps = 30\n",
    "\n",
    "X_train, y_train = create_dataset(train, train.Close, time_steps)\n",
    "X_test, y_test = create_dataset(test, test.Close, time_steps)\n",
    "\n",
    "print(X_train.shape, y_train.shape)"
   ]
  },
  {
   "cell_type": "code",
   "execution_count": 64,
   "metadata": {
    "id": "0GobKaMHTNwB"
   },
   "outputs": [],
   "source": [
    "def get_loss(mode = ''):\n",
    "  model = keras.Sequential()\n",
    "  model.add(keras.layers.Bidirectional(keras.layers.LSTM(units=20, input_shape=(30, 11)), merge_mode=mode))\n",
    "  model.add(keras.layers.Dropout(rate=0.2))\n",
    "  model.add(keras.layers.Dense(units=1))\n",
    "  model.compile(loss='mean_squared_error', optimizer='adam')\n",
    "\n",
    "  history = model.fit(X_train, y_train, epochs=40, batch_size=32, validation_split=0.1, shuffle=False, verbose=0)\n",
    "  x = history.history['loss']\n",
    "  return x"
   ]
  },
  {
   "cell_type": "code",
   "execution_count": 68,
   "metadata": {
    "id": "btPLElYsTOI7"
   },
   "outputs": [],
   "source": [
    "results = pd.DataFrame()\n",
    "results['sum'] = get_loss('sum')\n",
    "results['average'] = get_loss('ave')\n",
    "results['concat'] = get_loss('concat')\n",
    "results['muliplication'] = get_loss('mul')"
   ]
  },
  {
   "cell_type": "code",
   "execution_count": 69,
   "metadata": {
    "colab": {
     "base_uri": "https://localhost:8080/",
     "height": 285
    },
    "id": "NjsaMluxTN_A",
    "outputId": "0c31f982-8fbb-40d0-8fd0-23e74e7a5b4b"
   },
   "outputs": [
    {
     "data": {
      "text/plain": [
       "<matplotlib.axes._subplots.AxesSubplot at 0x7fdc70ec5278>"
      ]
     },
     "execution_count": 69,
     "metadata": {
      "tags": []
     },
     "output_type": "execute_result"
    },
    {
     "data": {
      "image/png": "[encoded data removed]",
      "text/plain": [
       "<Figure size 432x288 with 1 Axes>"
      ]
     },
     "metadata": {
      "needs_background": "light",
      "tags": []
     },
     "output_type": "display_data"
    }
   ],
   "source": [
    "results.plot()"
   ]
  },
  {
   "cell_type": "code",
   "execution_count": 70,
   "metadata": {
    "id": "Xd1TMWCiY-fh"
   },
   "outputs": [],
   "source": [
    "model = keras.Sequential()\n",
    "model.add(keras.layers.Bidirectional(keras.layers.LSTM(units=20, input_shape=(30, 11)), merge_mode='concat'))\n",
    "model.add(keras.layers.Dropout(rate=0.2))\n",
    "model.add(keras.layers.Dense(units=1))\n",
    "model.compile(loss='mean_squared_error', optimizer='adam')"
   ]
  },
  {
   "cell_type": "code",
   "execution_count": 71,
   "metadata": {
    "colab": {
     "base_uri": "https://localhost:8080/",
     "height": 1000
    },
    "id": "8Wnc3kL0T1NM",
    "outputId": "dc2f67ef-6a9b-4539-b8f8-40920d9d12b5"
   },
   "outputs": [
    {
     "name": "stdout",
     "output_type": "stream",
     "text": [
      "Epoch 1/40\n",
      "120/120 [==============================] - 2s 13ms/step - loss: 0.1150 - val_loss: 0.0308\n",
      "Epoch 2/40\n",
      "120/120 [==============================] - 1s 6ms/step - loss: 0.0371 - val_loss: 0.0173\n",
      "Epoch 3/40\n",
      "120/120 [==============================] - 1s 7ms/step - loss: 0.0231 - val_loss: 0.0092\n",
      "Epoch 4/40\n",
      "120/120 [==============================] - 1s 7ms/step - loss: 0.0187 - val_loss: 0.0080\n",
      "Epoch 5/40\n",
      "120/120 [==============================] - 1s 7ms/step - loss: 0.0144 - val_loss: 0.0059\n",
      "Epoch 6/40\n",
      "120/120 [==============================] - 1s 6ms/step - loss: 0.0119 - val_loss: 0.0043\n",
      "Epoch 7/40\n",
      "120/120 [==============================] - 1s 6ms/step - loss: 0.0099 - val_loss: 0.0040\n",
      "Epoch 8/40\n",
      "120/120 [==============================] - 1s 6ms/step - loss: 0.0089 - val_loss: 0.0033\n",
      "Epoch 9/40\n",
      "120/120 [==============================] - 1s 6ms/step - loss: 0.0076 - val_loss: 0.0030\n",
      "Epoch 10/40\n",
      "120/120 [==============================] - 1s 7ms/step - loss: 0.0062 - val_loss: 0.0031\n",
      "Epoch 11/40\n",
      "120/120 [==============================] - 1s 7ms/step - loss: 0.0063 - val_loss: 0.0026\n",
      "Epoch 12/40\n",
      "120/120 [==============================] - 1s 6ms/step - loss: 0.0051 - val_loss: 0.0027\n",
      "Epoch 13/40\n",
      "120/120 [==============================] - 1s 7ms/step - loss: 0.0048 - val_loss: 0.0019\n",
      "Epoch 14/40\n",
      "120/120 [==============================] - 1s 7ms/step - loss: 0.0044 - val_loss: 0.0018\n",
      "Epoch 15/40\n",
      "120/120 [==============================] - 1s 7ms/step - loss: 0.0040 - val_loss: 0.0018\n",
      "Epoch 16/40\n",
      "120/120 [==============================] - 1s 7ms/step - loss: 0.0036 - val_loss: 0.0016\n",
      "Epoch 17/40\n",
      "120/120 [==============================] - 1s 6ms/step - loss: 0.0035 - val_loss: 0.0012\n",
      "Epoch 18/40\n",
      "120/120 [==============================] - 1s 6ms/step - loss: 0.0033 - val_loss: 0.0012\n",
      "Epoch 19/40\n",
      "120/120 [==============================] - 1s 6ms/step - loss: 0.0031 - val_loss: 0.0014\n",
      "Epoch 20/40\n",
      "120/120 [==============================] - 1s 6ms/step - loss: 0.0030 - val_loss: 0.0019\n",
      "Epoch 21/40\n",
      "120/120 [==============================] - 1s 6ms/step - loss: 0.0032 - val_loss: 0.0019\n",
      "Epoch 22/40\n",
      "120/120 [==============================] - 1s 7ms/step - loss: 0.0031 - val_loss: 0.0022\n",
      "Epoch 23/40\n",
      "120/120 [==============================] - 1s 6ms/step - loss: 0.0029 - val_loss: 0.0018\n",
      "Epoch 24/40\n",
      "120/120 [==============================] - 1s 7ms/step - loss: 0.0028 - val_loss: 0.0018\n",
      "Epoch 25/40\n",
      "120/120 [==============================] - 1s 7ms/step - loss: 0.0027 - val_loss: 0.0027\n",
      "Epoch 26/40\n",
      "120/120 [==============================] - 1s 6ms/step - loss: 0.0027 - val_loss: 0.0022\n",
      "Epoch 27/40\n",
      "120/120 [==============================] - 1s 6ms/step - loss: 0.0027 - val_loss: 0.0018\n",
      "Epoch 28/40\n",
      "120/120 [==============================] - 1s 6ms/step - loss: 0.0026 - val_loss: 0.0016\n",
      "Epoch 29/40\n",
      "120/120 [==============================] - 1s 6ms/step - loss: 0.0026 - val_loss: 0.0024\n",
      "Epoch 30/40\n",
      "120/120 [==============================] - 1s 6ms/step - loss: 0.0027 - val_loss: 0.0013\n",
      "Epoch 31/40\n",
      "120/120 [==============================] - 1s 6ms/step - loss: 0.0025 - val_loss: 0.0024\n",
      "Epoch 32/40\n",
      "120/120 [==============================] - 1s 6ms/step - loss: 0.0030 - val_loss: 0.0019\n",
      "Epoch 33/40\n",
      "120/120 [==============================] - 1s 6ms/step - loss: 0.0023 - val_loss: 0.0015\n",
      "Epoch 34/40\n",
      "120/120 [==============================] - 1s 7ms/step - loss: 0.0023 - val_loss: 0.0021\n",
      "Epoch 35/40\n",
      "120/120 [==============================] - 1s 6ms/step - loss: 0.0023 - val_loss: 0.0024\n",
      "Epoch 36/40\n",
      "120/120 [==============================] - 1s 6ms/step - loss: 0.0023 - val_loss: 0.0046\n",
      "Epoch 37/40\n",
      "120/120 [==============================] - 1s 7ms/step - loss: 0.0026 - val_loss: 0.0013\n",
      "Epoch 38/40\n",
      "120/120 [==============================] - 1s 6ms/step - loss: 0.0024 - val_loss: 8.2116e-04\n",
      "Epoch 39/40\n",
      "120/120 [==============================] - 1s 7ms/step - loss: 0.0023 - val_loss: 6.0309e-04\n",
      "Epoch 40/40\n",
      "120/120 [==============================] - 1s 7ms/step - loss: 0.0023 - val_loss: 3.4236e-04\n"
     ]
    }
   ],
   "source": [
    "history = model.fit(\n",
    "    X_train, y_train, \n",
    "    epochs=40, \n",
    "    batch_size=32, \n",
    "    validation_split=0.1,\n",
    "    shuffle=False\n",
    ")"
   ]
  },
  {
   "cell_type": "code",
   "execution_count": 72,
   "metadata": {
    "id": "S-i7zuy_ULKE"
   },
   "outputs": [],
   "source": [
    "y_pred = model.predict(X_test)"
   ]
  },
  {
   "cell_type": "code",
   "execution_count": 73,
   "metadata": {
    "id": "H7JKpP0BT1V5"
   },
   "outputs": [],
   "source": [
    "y_train_inv = target_transformer.inverse_transform(y_train.reshape(1, -1))\n",
    "y_test_inv = target_transformer.inverse_transform(y_test.reshape(1, -1))\n",
    "y_pred_inv = target_transformer.inverse_transform(y_pred)"
   ]
  },
  {
   "cell_type": "code",
   "execution_count": 74,
   "metadata": {
    "colab": {
     "base_uri": "https://localhost:8080/",
     "height": 279
    },
    "id": "2DBMjdElT1UP",
    "outputId": "3f1e49d8-0851-4577-9b3c-ed5e6871398a"
   },
   "outputs": [
    {
     "data": {
      "image/png": "[encoded data removed]",
      "text/plain": [
       "<Figure size 432x288 with 1 Axes>"
      ]
     },
     "metadata": {
      "needs_background": "light",
      "tags": []
     },
     "output_type": "display_data"
    }
   ],
   "source": [
    "import matplotlib.pyplot as plt\n",
    "\n",
    "plt.plot(np.arange(0, len(y_train)), y_train_inv.flatten(), 'g', label=\"history\")\n",
    "plt.plot(np.arange(len(y_train), len(y_train) + len(y_test)), y_test_inv.flatten(), marker='.', label=\"true\")\n",
    "plt.plot(np.arange(len(y_train), len(y_train) + len(y_test)), y_pred_inv.flatten(), 'r', label=\"prediction\")\n",
    "plt.ylabel('Stock Price(Close)')\n",
    "plt.xlabel('Time Step')\n",
    "plt.legend()\n",
    "plt.show()"
   ]
  },
  {
   "cell_type": "code",
   "execution_count": 75,
   "metadata": {
    "id": "IIiBw8eBT1QE"
   },
   "outputs": [],
   "source": [
    "from sklearn import metrics\n",
    "def scores(y, y_):\n",
    "    print('MAPE:{}'.format(np.mean(np.abs((y - y_) / y))*100))"
   ]
  },
  {
   "cell_type": "code",
   "execution_count": 76,
   "metadata": {
    "colab": {
     "base_uri": "https://localhost:8080/",
     "height": 34
    },
    "id": "P_jbIHleUFTR",
    "outputId": "6e6f9273-2381-4440-82f3-d04707a3c44e"
   },
   "outputs": [
    {
     "name": "stdout",
     "output_type": "stream",
     "text": [
      "MAPE:17.583441591241307\n"
     ]
    }
   ],
   "source": [
    "scores(y_test, y_pred)"
   ]
  }
 ],
 "metadata": {
  "accelerator": "GPU",
  "colab": {
   "name": "ModelDevelopment.ipynb",
   "provenance": []
  },
  "kernelspec": {
   "display_name": "Python 3",
   "language": "python",
   "name": "python3"
  },
  "language_info": {
   "codemirror_mode": {
    "name": "ipython",
    "version": 3
   },
   "file_extension": ".py",
   "mimetype": "text/x-python",
   "name": "python",
   "nbconvert_exporter": "python",
   "pygments_lexer": "ipython3",
   "version": "3.7.7"
  }
 },
 "nbformat": 4,
 "nbformat_minor": 1
}
