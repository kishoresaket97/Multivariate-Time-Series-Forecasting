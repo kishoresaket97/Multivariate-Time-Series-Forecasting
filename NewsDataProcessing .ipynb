{
 "cells": [
  {
   "cell_type": "code",
   "execution_count": 1,
   "metadata": {},
   "outputs": [],
   "source": [
    "import warnings\n",
    "import pandas as pd\n",
    "import numpy as np\n",
    "import matplotlib.pyplot as plt\n",
    "import os\n",
    "warnings.filterwarnings(\"ignore\")"
   ]
  },
  {
   "cell_type": "code",
   "execution_count": 2,
   "metadata": {},
   "outputs": [],
   "source": [
    "os.chdir(\"C:/Users/levi0/Downloads\")"
   ]
  },
  {
   "cell_type": "code",
   "execution_count": 3,
   "metadata": {},
   "outputs": [],
   "source": [
    "news = pd.read_csv(\"india-news-headlines.csv\")"
   ]
  },
  {
   "cell_type": "code",
   "execution_count": 4,
   "metadata": {},
   "outputs": [],
   "source": [
    "stock = pd.read_csv(\"BSESN.csv\")"
   ]
  },
  {
   "cell_type": "code",
   "execution_count": 5,
   "metadata": {},
   "outputs": [],
   "source": [
    "#Since we will only forecast for \"High\"\n",
    "stock.drop(columns = [\"Open\", \"Low\", \"High\", \"Adj Close\", \"Volume\"], inplace = True)"
   ]
  },
  {
   "cell_type": "code",
   "execution_count": 6,
   "metadata": {},
   "outputs": [],
   "source": [
    "news['headline_text'] = news['headline_text'].str.lower()"
   ]
  },
  {
   "cell_type": "code",
   "execution_count": 7,
   "metadata": {},
   "outputs": [],
   "source": [
    "#segregating the news headlines which contain the name of a company under the bombay stock exchange or the news headlines\n",
    "#which contain words which represent other factor such as a natural calamity, inflation, the budget etc. \n",
    "companies = \"bajaj|hdfc|kotak|tata|reliance|titan|larsen|mahindra|nestle|icici|maruti|hcl|ultratech|airtel|ntpc|sbi|ongc\"\n",
    "others = \"|earthquake|housing|business|budget|flood|gold|exchange rate|inflation|silver\""
   ]
  },
  {
   "cell_type": "code",
   "execution_count": 8,
   "metadata": {},
   "outputs": [],
   "source": [
    "keywords = companies+others"
   ]
  },
  {
   "cell_type": "code",
   "execution_count": 9,
   "metadata": {},
   "outputs": [
    {
     "data": {
      "text/plain": [
       "'bajaj|hdfc|kotak|tata|reliance|titan|larsen|mahindra|nestle|icici|maruti|hcl|ultratech|airtel|ntpc|sbi|ongc|earthquake|housing|business|budget|flood|gold|exchange rate|inflation|silver'"
      ]
     },
     "execution_count": 9,
     "metadata": {},
     "output_type": "execute_result"
    }
   ],
   "source": [
    "keywords"
   ]
  },
  {
   "cell_type": "code",
   "execution_count": 10,
   "metadata": {},
   "outputs": [
    {
     "data": {
      "text/plain": [
       "0    3223119\n",
       "1      74053\n",
       "Name: relevant, dtype: int64"
      ]
     },
     "execution_count": 10,
     "metadata": {},
     "output_type": "execute_result"
    }
   ],
   "source": [
    "#out of the entire dataset we could only get 74053 news records which were relevant for forecasting \n",
    "news['relevant'] = news['headline_text'].str.contains(pat = keywords).astype(int)\n",
    "news['relevant'].value_counts()"
   ]
  },
  {
   "cell_type": "code",
   "execution_count": 11,
   "metadata": {},
   "outputs": [],
   "source": [
    "news['publish_date'] = pd.to_datetime(news['publish_date'], format='%Y%m%d') "
   ]
  },
  {
   "cell_type": "code",
   "execution_count": 12,
   "metadata": {},
   "outputs": [],
   "source": [
    "relevant_news = news[(news['relevant'] == 1)]"
   ]
  },
  {
   "cell_type": "code",
   "execution_count": 13,
   "metadata": {},
   "outputs": [],
   "source": [
    "relevant_news.reset_index(drop = True, inplace = True)"
   ]
  },
  {
   "cell_type": "code",
   "execution_count": 14,
   "metadata": {},
   "outputs": [
    {
     "data": {
      "text/html": [
       "<div>\n",
       "<style scoped>\n",
       "    .dataframe tbody tr th:only-of-type {\n",
       "        vertical-align: middle;\n",
       "    }\n",
       "\n",
       "    .dataframe tbody tr th {\n",
       "        vertical-align: top;\n",
       "    }\n",
       "\n",
       "    .dataframe thead th {\n",
       "        text-align: right;\n",
       "    }\n",
       "</style>\n",
       "<table border=\"1\" class=\"dataframe\">\n",
       "  <thead>\n",
       "    <tr style=\"text-align: right;\">\n",
       "      <th></th>\n",
       "      <th>publish_date</th>\n",
       "      <th>headline_category</th>\n",
       "      <th>headline_text</th>\n",
       "      <th>relevant</th>\n",
       "    </tr>\n",
       "  </thead>\n",
       "  <tbody>\n",
       "    <tr>\n",
       "      <th>0</th>\n",
       "      <td>2001-01-03</td>\n",
       "      <td>unknown</td>\n",
       "      <td>bcc holds talks on budget</td>\n",
       "      <td>1</td>\n",
       "    </tr>\n",
       "    <tr>\n",
       "      <th>1</th>\n",
       "      <td>2001-01-04</td>\n",
       "      <td>unknown</td>\n",
       "      <td>pil urges to seek flood relief from un</td>\n",
       "      <td>1</td>\n",
       "    </tr>\n",
       "    <tr>\n",
       "      <th>2</th>\n",
       "      <td>2001-01-04</td>\n",
       "      <td>unknown</td>\n",
       "      <td>close battle for mahindra golfer; 2001</td>\n",
       "      <td>1</td>\n",
       "    </tr>\n",
       "    <tr>\n",
       "      <th>3</th>\n",
       "      <td>2001-01-07</td>\n",
       "      <td>unknown</td>\n",
       "      <td>tops to trousers; they're going for gold!</td>\n",
       "      <td>1</td>\n",
       "    </tr>\n",
       "    <tr>\n",
       "      <th>4</th>\n",
       "      <td>2001-01-07</td>\n",
       "      <td>unknown</td>\n",
       "      <td>cricket board chief means business</td>\n",
       "      <td>1</td>\n",
       "    </tr>\n",
       "  </tbody>\n",
       "</table>\n",
       "</div>"
      ],
      "text/plain": [
       "  publish_date headline_category                              headline_text  \\\n",
       "0   2001-01-03           unknown                  bcc holds talks on budget   \n",
       "1   2001-01-04           unknown     pil urges to seek flood relief from un   \n",
       "2   2001-01-04           unknown     close battle for mahindra golfer; 2001   \n",
       "3   2001-01-07           unknown  tops to trousers; they're going for gold!   \n",
       "4   2001-01-07           unknown         cricket board chief means business   \n",
       "\n",
       "   relevant  \n",
       "0         1  \n",
       "1         1  \n",
       "2         1  \n",
       "3         1  \n",
       "4         1  "
      ]
     },
     "execution_count": 14,
     "metadata": {},
     "output_type": "execute_result"
    }
   ],
   "source": [
    "relevant_news.head(5)"
   ]
  },
  {
   "cell_type": "code",
   "execution_count": 15,
   "metadata": {},
   "outputs": [],
   "source": [
    "from nltk.corpus import stopwords\n",
    "stop = set(stopwords.words(\"english\"))"
   ]
  },
  {
   "cell_type": "code",
   "execution_count": 16,
   "metadata": {},
   "outputs": [],
   "source": [
    "#removing stop words/puctuations\n",
    "\n",
    "relevant_news['headline_text'] = relevant_news['headline_text'].str.replace('[^\\w\\s]','')\n",
    "\n",
    "relevant_news['headline_text'] = relevant_news['headline_text'].str.replace('\\d+', '')"
   ]
  },
  {
   "cell_type": "code",
   "execution_count": 17,
   "metadata": {},
   "outputs": [],
   "source": [
    "for i in range(len(relevant_news['headline_text'])):\n",
    "    relevant_news['headline_text'][i] = ' '.join([word for word in relevant_news['headline_text'][i].split() if word not in stop])"
   ]
  },
  {
   "cell_type": "code",
   "execution_count": 18,
   "metadata": {},
   "outputs": [
    {
     "data": {
      "text/html": [
       "<div>\n",
       "<style scoped>\n",
       "    .dataframe tbody tr th:only-of-type {\n",
       "        vertical-align: middle;\n",
       "    }\n",
       "\n",
       "    .dataframe tbody tr th {\n",
       "        vertical-align: top;\n",
       "    }\n",
       "\n",
       "    .dataframe thead th {\n",
       "        text-align: right;\n",
       "    }\n",
       "</style>\n",
       "<table border=\"1\" class=\"dataframe\">\n",
       "  <thead>\n",
       "    <tr style=\"text-align: right;\">\n",
       "      <th></th>\n",
       "      <th>publish_date</th>\n",
       "      <th>headline_category</th>\n",
       "      <th>headline_text</th>\n",
       "      <th>relevant</th>\n",
       "    </tr>\n",
       "  </thead>\n",
       "  <tbody>\n",
       "    <tr>\n",
       "      <th>74048</th>\n",
       "      <td>2020-06-30</td>\n",
       "      <td>business.india-business</td>\n",
       "      <td>tata steel hit rs crore loss q</td>\n",
       "      <td>1</td>\n",
       "    </tr>\n",
       "    <tr>\n",
       "      <th>74049</th>\n",
       "      <td>2020-06-30</td>\n",
       "      <td>business.india-business</td>\n",
       "      <td>hdfc bank looks raise rs crore</td>\n",
       "      <td>1</td>\n",
       "    </tr>\n",
       "    <tr>\n",
       "      <th>74050</th>\n",
       "      <td>2020-06-30</td>\n",
       "      <td>city.ahmedabad</td>\n",
       "      <td>gold prices rise due safe investments</td>\n",
       "      <td>1</td>\n",
       "    </tr>\n",
       "    <tr>\n",
       "      <th>74051</th>\n",
       "      <td>2020-06-30</td>\n",
       "      <td>city.goa</td>\n",
       "      <td>cooperative banks get govt approval offer gold...</td>\n",
       "      <td>1</td>\n",
       "    </tr>\n",
       "    <tr>\n",
       "      <th>74052</th>\n",
       "      <td>2020-06-30</td>\n",
       "      <td>city.nagpur</td>\n",
       "      <td>one tola gold kg silver create price ratio record</td>\n",
       "      <td>1</td>\n",
       "    </tr>\n",
       "  </tbody>\n",
       "</table>\n",
       "</div>"
      ],
      "text/plain": [
       "      publish_date        headline_category  \\\n",
       "74048   2020-06-30  business.india-business   \n",
       "74049   2020-06-30  business.india-business   \n",
       "74050   2020-06-30           city.ahmedabad   \n",
       "74051   2020-06-30                 city.goa   \n",
       "74052   2020-06-30              city.nagpur   \n",
       "\n",
       "                                           headline_text  relevant  \n",
       "74048                     tata steel hit rs crore loss q         1  \n",
       "74049                     hdfc bank looks raise rs crore         1  \n",
       "74050              gold prices rise due safe investments         1  \n",
       "74051  cooperative banks get govt approval offer gold...         1  \n",
       "74052  one tola gold kg silver create price ratio record         1  "
      ]
     },
     "execution_count": 18,
     "metadata": {},
     "output_type": "execute_result"
    }
   ],
   "source": [
    "relevant_news.tail(5)"
   ]
  },
  {
   "cell_type": "markdown",
   "metadata": {},
   "source": [
    "**Finding Verbs**"
   ]
  },
  {
   "cell_type": "code",
   "execution_count": 19,
   "metadata": {},
   "outputs": [],
   "source": [
    "import spacy \n",
    "import textacy \n",
    "import en_core_web_sm\n",
    "\n",
    "nlp = en_core_web_sm.load()"
   ]
  },
  {
   "cell_type": "code",
   "execution_count": 20,
   "metadata": {},
   "outputs": [],
   "source": [
    "doc = nlp(relevant_news['headline_text'][0])"
   ]
  },
  {
   "cell_type": "code",
   "execution_count": 21,
   "metadata": {},
   "outputs": [],
   "source": [
    "pattern = [{\"POS\": \"VERB\"}]"
   ]
  },
  {
   "cell_type": "code",
   "execution_count": 22,
   "metadata": {},
   "outputs": [],
   "source": [
    "vrb = textacy.extract.matches(doc, patterns=pattern)"
   ]
  },
  {
   "cell_type": "code",
   "execution_count": 25,
   "metadata": {},
   "outputs": [],
   "source": [
    "relevant_news['verb'] = ''"
   ]
  },
  {
   "cell_type": "code",
   "execution_count": 26,
   "metadata": {},
   "outputs": [],
   "source": [
    "for i in range(len(relevant_news['headline_text'])):\n",
    "    doc = nlp(relevant_news['headline_text'][i])\n",
    "    vrb = textacy.extract.matches(doc, patterns=pattern)\n",
    "    for verb_phrase in vrb:\n",
    "        relevant_news['verb'][i] = str(verb_phrase)"
   ]
  },
  {
   "cell_type": "code",
   "execution_count": 28,
   "metadata": {},
   "outputs": [
    {
     "data": {
      "text/plain": [
       "[('held', 851),\n",
       " ('says', 831),\n",
       " ('wins', 730),\n",
       " ('gets', 663),\n",
       " ('stolen', 639),\n",
       " ('hit', 574),\n",
       " ('seized', 573),\n",
       " ('flooded', 571),\n",
       " ('robbed', 489),\n",
       " ('get', 456),\n",
       " ('hits', 427),\n",
       " ('take', 415),\n",
       " ('set', 358),\n",
       " ('rises', 342),\n",
       " ('make', 299),\n",
       " ('buy', 287),\n",
       " ('arrested', 280),\n",
       " ('takes', 263),\n",
       " ('seeks', 254),\n",
       " ('snatched', 253)]"
      ]
     },
     "execution_count": 28,
     "metadata": {},
     "output_type": "execute_result"
    }
   ],
   "source": [
    "from collections import Counter\n",
    "Counter(\" \".join(relevant_news[\"verb\"]).split()).most_common(20)"
   ]
  },
  {
   "cell_type": "code",
   "execution_count": 29,
   "metadata": {},
   "outputs": [],
   "source": [
    "#The most frequently occuring verbs were separately extracted and the new valence scores were assigned to them specially \n",
    "#for scoring of financial data\n",
    "from nltk.sentiment.vader import SentimentIntensityAnalyzer\n",
    "vader = SentimentIntensityAnalyzer()"
   ]
  },
  {
   "cell_type": "code",
   "execution_count": 30,
   "metadata": {},
   "outputs": [],
   "source": [
    "new_words = {\n",
    "    'wins': 3.0,\n",
    "    'gets': 2.0,\n",
    "    'rises': 2.5,\n",
    "    'rise': 2.5,\n",
    "    'loses': -3.0,\n",
    "    'win': 3.0,\n",
    "    'raise': 2.5,\n",
    "    'raises': 2.5,\n",
    "    'jumps': 2.0,\n",
    "    'celebrates': 3.0,\n",
    "    'floodaffected': -2.5,\n",
    "    'reduce': -1.5,\n",
    "    'gain': 2.5,\n",
    "    'hit': -2.5,\n",
    "    'falls': -3.0,\n",
    "    'approves': 2.0,\n",
    "    'passed': 2.0,\n",
    "    'fail': -2.0,\n",
    "    'lost' : -2.0,\n",
    "}\n",
    "\n",
    "vader.lexicon.update(new_words)"
   ]
  },
  {
   "cell_type": "code",
   "execution_count": 31,
   "metadata": {},
   "outputs": [],
   "source": [
    "relevant_news['polarity'] = ''\n",
    "for i in range(0, len(relevant_news['headline_text'])):\n",
    "    relevant_news['polarity'][i] = vader.polarity_scores(relevant_news['headline_text'][i])['compound']"
   ]
  },
  {
   "cell_type": "code",
   "execution_count": 34,
   "metadata": {},
   "outputs": [
    {
     "data": {
      "text/html": [
       "<div>\n",
       "<style scoped>\n",
       "    .dataframe tbody tr th:only-of-type {\n",
       "        vertical-align: middle;\n",
       "    }\n",
       "\n",
       "    .dataframe tbody tr th {\n",
       "        vertical-align: top;\n",
       "    }\n",
       "\n",
       "    .dataframe thead th {\n",
       "        text-align: right;\n",
       "    }\n",
       "</style>\n",
       "<table border=\"1\" class=\"dataframe\">\n",
       "  <thead>\n",
       "    <tr style=\"text-align: right;\">\n",
       "      <th></th>\n",
       "      <th>publish_date</th>\n",
       "      <th>headline_category</th>\n",
       "      <th>headline_text</th>\n",
       "      <th>relevant</th>\n",
       "      <th>verb</th>\n",
       "      <th>polarity</th>\n",
       "    </tr>\n",
       "  </thead>\n",
       "  <tbody>\n",
       "    <tr>\n",
       "      <th>74048</th>\n",
       "      <td>2020-06-30</td>\n",
       "      <td>business.india-business</td>\n",
       "      <td>tata steel hit rs crore loss q</td>\n",
       "      <td>1</td>\n",
       "      <td>hit</td>\n",
       "      <td>-0.7003</td>\n",
       "    </tr>\n",
       "    <tr>\n",
       "      <th>74049</th>\n",
       "      <td>2020-06-30</td>\n",
       "      <td>business.india-business</td>\n",
       "      <td>hdfc bank looks raise rs crore</td>\n",
       "      <td>1</td>\n",
       "      <td>raise</td>\n",
       "      <td>0.5423</td>\n",
       "    </tr>\n",
       "    <tr>\n",
       "      <th>74050</th>\n",
       "      <td>2020-06-30</td>\n",
       "      <td>city.ahmedabad</td>\n",
       "      <td>gold prices rise due safe investments</td>\n",
       "      <td>1</td>\n",
       "      <td>rise</td>\n",
       "      <td>0.7506</td>\n",
       "    </tr>\n",
       "    <tr>\n",
       "      <th>74051</th>\n",
       "      <td>2020-06-30</td>\n",
       "      <td>city.goa</td>\n",
       "      <td>cooperative banks get govt approval offer gold...</td>\n",
       "      <td>1</td>\n",
       "      <td>offer</td>\n",
       "      <td>0.4767</td>\n",
       "    </tr>\n",
       "    <tr>\n",
       "      <th>74052</th>\n",
       "      <td>2020-06-30</td>\n",
       "      <td>city.nagpur</td>\n",
       "      <td>one tola gold kg silver create price ratio record</td>\n",
       "      <td>1</td>\n",
       "      <td>create</td>\n",
       "      <td>0.2732</td>\n",
       "    </tr>\n",
       "  </tbody>\n",
       "</table>\n",
       "</div>"
      ],
      "text/plain": [
       "      publish_date        headline_category  \\\n",
       "74048   2020-06-30  business.india-business   \n",
       "74049   2020-06-30  business.india-business   \n",
       "74050   2020-06-30           city.ahmedabad   \n",
       "74051   2020-06-30                 city.goa   \n",
       "74052   2020-06-30              city.nagpur   \n",
       "\n",
       "                                           headline_text  relevant    verb  \\\n",
       "74048                     tata steel hit rs crore loss q         1     hit   \n",
       "74049                     hdfc bank looks raise rs crore         1   raise   \n",
       "74050              gold prices rise due safe investments         1    rise   \n",
       "74051  cooperative banks get govt approval offer gold...         1   offer   \n",
       "74052  one tola gold kg silver create price ratio record         1  create   \n",
       "\n",
       "      polarity  \n",
       "74048  -0.7003  \n",
       "74049   0.5423  \n",
       "74050   0.7506  \n",
       "74051   0.4767  \n",
       "74052   0.2732  "
      ]
     },
     "execution_count": 34,
     "metadata": {},
     "output_type": "execute_result"
    }
   ],
   "source": [
    "relevant_news.tail()"
   ]
  },
  {
   "cell_type": "code",
   "execution_count": 35,
   "metadata": {},
   "outputs": [],
   "source": [
    "g = relevant_news.groupby(['publish_date'], sort=False)['polarity'].max()"
   ]
  },
  {
   "cell_type": "code",
   "execution_count": 36,
   "metadata": {},
   "outputs": [],
   "source": [
    "#merging the two datasets together to get the stock prices and the polarity scores in the same dataset\n",
    "stock['Date'] = pd.to_datetime(stock['Date']) \n",
    "stock['publish_date'] = stock['Date']\n",
    "stock = pd.merge(stock, g, on=['publish_date'], how='left')"
   ]
  },
  {
   "cell_type": "code",
   "execution_count": 37,
   "metadata": {},
   "outputs": [
    {
     "data": {
      "text/html": [
       "<div>\n",
       "<style scoped>\n",
       "    .dataframe tbody tr th:only-of-type {\n",
       "        vertical-align: middle;\n",
       "    }\n",
       "\n",
       "    .dataframe tbody tr th {\n",
       "        vertical-align: top;\n",
       "    }\n",
       "\n",
       "    .dataframe thead th {\n",
       "        text-align: right;\n",
       "    }\n",
       "</style>\n",
       "<table border=\"1\" class=\"dataframe\">\n",
       "  <thead>\n",
       "    <tr style=\"text-align: right;\">\n",
       "      <th></th>\n",
       "      <th>Date</th>\n",
       "      <th>Close</th>\n",
       "      <th>publish_date</th>\n",
       "      <th>polarity</th>\n",
       "    </tr>\n",
       "  </thead>\n",
       "  <tbody>\n",
       "    <tr>\n",
       "      <th>0</th>\n",
       "      <td>2001-01-03</td>\n",
       "      <td>4060.020020</td>\n",
       "      <td>2001-01-03</td>\n",
       "      <td>0.0000</td>\n",
       "    </tr>\n",
       "    <tr>\n",
       "      <th>1</th>\n",
       "      <td>2001-01-04</td>\n",
       "      <td>4115.370117</td>\n",
       "      <td>2001-01-04</td>\n",
       "      <td>0.4767</td>\n",
       "    </tr>\n",
       "    <tr>\n",
       "      <th>2</th>\n",
       "      <td>2001-01-05</td>\n",
       "      <td>4183.729980</td>\n",
       "      <td>2001-01-05</td>\n",
       "      <td>NaN</td>\n",
       "    </tr>\n",
       "    <tr>\n",
       "      <th>3</th>\n",
       "      <td>2001-01-08</td>\n",
       "      <td>4120.430176</td>\n",
       "      <td>2001-01-08</td>\n",
       "      <td>NaN</td>\n",
       "    </tr>\n",
       "    <tr>\n",
       "      <th>4</th>\n",
       "      <td>2001-01-09</td>\n",
       "      <td>4125.310059</td>\n",
       "      <td>2001-01-09</td>\n",
       "      <td>NaN</td>\n",
       "    </tr>\n",
       "  </tbody>\n",
       "</table>\n",
       "</div>"
      ],
      "text/plain": [
       "        Date        Close publish_date  polarity\n",
       "0 2001-01-03  4060.020020   2001-01-03    0.0000\n",
       "1 2001-01-04  4115.370117   2001-01-04    0.4767\n",
       "2 2001-01-05  4183.729980   2001-01-05       NaN\n",
       "3 2001-01-08  4120.430176   2001-01-08       NaN\n",
       "4 2001-01-09  4125.310059   2001-01-09       NaN"
      ]
     },
     "execution_count": 37,
     "metadata": {},
     "output_type": "execute_result"
    }
   ],
   "source": [
    "stock.head(5)"
   ]
  },
  {
   "cell_type": "code",
   "execution_count": 38,
   "metadata": {},
   "outputs": [],
   "source": [
    "stock['polarity'].fillna(0, inplace = True)"
   ]
  },
  {
   "cell_type": "code",
   "execution_count": 39,
   "metadata": {},
   "outputs": [
    {
     "data": {
      "text/plain": [
       "Date             0\n",
       "Close           74\n",
       "publish_date     0\n",
       "polarity         0\n",
       "dtype: int64"
      ]
     },
     "execution_count": 39,
     "metadata": {},
     "output_type": "execute_result"
    }
   ],
   "source": [
    "stock.isna().sum()"
   ]
  },
  {
   "cell_type": "code",
   "execution_count": 40,
   "metadata": {},
   "outputs": [],
   "source": [
    "#Forward fill for the missing values in \"High\"\n",
    "stock.fillna(method=\"ffill\", inplace =True)"
   ]
  },
  {
   "cell_type": "code",
   "execution_count": 42,
   "metadata": {},
   "outputs": [],
   "source": [
    "stock.drop(columns = [\"Date\"], inplace = True)"
   ]
  },
  {
   "cell_type": "code",
   "execution_count": 43,
   "metadata": {},
   "outputs": [
    {
     "data": {
      "text/html": [
       "<div>\n",
       "<style scoped>\n",
       "    .dataframe tbody tr th:only-of-type {\n",
       "        vertical-align: middle;\n",
       "    }\n",
       "\n",
       "    .dataframe tbody tr th {\n",
       "        vertical-align: top;\n",
       "    }\n",
       "\n",
       "    .dataframe thead th {\n",
       "        text-align: right;\n",
       "    }\n",
       "</style>\n",
       "<table border=\"1\" class=\"dataframe\">\n",
       "  <thead>\n",
       "    <tr style=\"text-align: right;\">\n",
       "      <th></th>\n",
       "      <th>Close</th>\n",
       "      <th>publish_date</th>\n",
       "      <th>polarity</th>\n",
       "    </tr>\n",
       "  </thead>\n",
       "  <tbody>\n",
       "    <tr>\n",
       "      <th>0</th>\n",
       "      <td>4060.020020</td>\n",
       "      <td>2001-01-03</td>\n",
       "      <td>0.0000</td>\n",
       "    </tr>\n",
       "    <tr>\n",
       "      <th>1</th>\n",
       "      <td>4115.370117</td>\n",
       "      <td>2001-01-04</td>\n",
       "      <td>0.4767</td>\n",
       "    </tr>\n",
       "    <tr>\n",
       "      <th>2</th>\n",
       "      <td>4183.729980</td>\n",
       "      <td>2001-01-05</td>\n",
       "      <td>0.0000</td>\n",
       "    </tr>\n",
       "    <tr>\n",
       "      <th>3</th>\n",
       "      <td>4120.430176</td>\n",
       "      <td>2001-01-08</td>\n",
       "      <td>0.0000</td>\n",
       "    </tr>\n",
       "    <tr>\n",
       "      <th>4</th>\n",
       "      <td>4125.310059</td>\n",
       "      <td>2001-01-09</td>\n",
       "      <td>0.0000</td>\n",
       "    </tr>\n",
       "    <tr>\n",
       "      <th>...</th>\n",
       "      <td>...</td>\n",
       "      <td>...</td>\n",
       "      <td>...</td>\n",
       "    </tr>\n",
       "    <tr>\n",
       "      <th>4862</th>\n",
       "      <td>35430.429688</td>\n",
       "      <td>2020-06-23</td>\n",
       "      <td>0.6369</td>\n",
       "    </tr>\n",
       "    <tr>\n",
       "      <th>4863</th>\n",
       "      <td>34868.980469</td>\n",
       "      <td>2020-06-24</td>\n",
       "      <td>0.0000</td>\n",
       "    </tr>\n",
       "    <tr>\n",
       "      <th>4864</th>\n",
       "      <td>34842.101563</td>\n",
       "      <td>2020-06-25</td>\n",
       "      <td>0.5106</td>\n",
       "    </tr>\n",
       "    <tr>\n",
       "      <th>4865</th>\n",
       "      <td>35171.269531</td>\n",
       "      <td>2020-06-26</td>\n",
       "      <td>0.5423</td>\n",
       "    </tr>\n",
       "    <tr>\n",
       "      <th>4866</th>\n",
       "      <td>34961.519531</td>\n",
       "      <td>2020-06-29</td>\n",
       "      <td>0.5267</td>\n",
       "    </tr>\n",
       "  </tbody>\n",
       "</table>\n",
       "<p>4867 rows × 3 columns</p>\n",
       "</div>"
      ],
      "text/plain": [
       "             Close publish_date  polarity\n",
       "0      4060.020020   2001-01-03    0.0000\n",
       "1      4115.370117   2001-01-04    0.4767\n",
       "2      4183.729980   2001-01-05    0.0000\n",
       "3      4120.430176   2001-01-08    0.0000\n",
       "4      4125.310059   2001-01-09    0.0000\n",
       "...            ...          ...       ...\n",
       "4862  35430.429688   2020-06-23    0.6369\n",
       "4863  34868.980469   2020-06-24    0.0000\n",
       "4864  34842.101563   2020-06-25    0.5106\n",
       "4865  35171.269531   2020-06-26    0.5423\n",
       "4866  34961.519531   2020-06-29    0.5267\n",
       "\n",
       "[4867 rows x 3 columns]"
      ]
     },
     "execution_count": 43,
     "metadata": {},
     "output_type": "execute_result"
    }
   ],
   "source": [
    "stock"
   ]
  },
  {
   "cell_type": "code",
   "execution_count": 44,
   "metadata": {},
   "outputs": [],
   "source": [
    "#The final dataset \n",
    "stock.to_csv(\"Preprocessed.csv\", index = False)"
   ]
  }
 ],
 "metadata": {
  "kernelspec": {
   "display_name": "Python 3",
   "language": "python",
   "name": "python3"
  },
  "language_info": {
   "codemirror_mode": {
    "name": "ipython",
    "version": 3
   },
   "file_extension": ".py",
   "mimetype": "text/x-python",
   "name": "python",
   "nbconvert_exporter": "python",
   "pygments_lexer": "ipython3",
   "version": "3.7.7"
  }
 },
 "nbformat": 4,
 "nbformat_minor": 4
}
